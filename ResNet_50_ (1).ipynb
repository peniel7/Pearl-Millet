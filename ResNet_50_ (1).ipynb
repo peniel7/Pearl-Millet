{
  "nbformat": 4,
  "nbformat_minor": 0,
  "metadata": {
    "colab": {
      "provenance": []
    },
    "kernelspec": {
      "name": "python3",
      "display_name": "Python 3"
    },
    "language_info": {
      "name": "python"
    },
    "accelerator": "GPU"
  },
  "cells": [
    {
      "cell_type": "code",
      "source": [
        "\n",
        "\n",
        "import os\n",
        "import zipfile\n",
        "import tensorflow as tf\n",
        "from tensorflow.keras.preprocessing.image import ImageDataGenerator\n",
        "from tensorflow.keras import layers\n",
        "from tensorflow.keras import Model\n",
        "import matplotlib.pyplot as plt\n",
        "from tensorflow.keras.optimizers import SGD\n",
        "from keras.callbacks import EarlyStopping,ModelCheckpoint"
      ],
      "metadata": {
        "id": "qzSPB-e4WYFs"
      },
      "execution_count": null,
      "outputs": []
    },
    {
      "cell_type": "code",
      "source": [
        "train_datagen = ImageDataGenerator(rescale=1./255,zoom_range=0.15,width_shift_range=0.2,height_shift_range=0.2,shear_range=0.15)\n",
        "test_datagen = ImageDataGenerator(rescale=1./255)\n",
        "train_generator = train_datagen.flow_from_directory(\"/content/drive/MyDrive/Resized Pearl Millet/Train\",target_size=(224, 224),batch_size=32,shuffle=True,class_mode=\"categorical\")\n",
        "test_generator = test_datagen.flow_from_directory(\"/content/drive/MyDrive/Resized Pearl Millet/Test\",target_size=(224,224),batch_size=32,shuffle=False,class_mode=\"categorical\")"
      ],
      "metadata": {
        "id": "2JpbKFruWYvh"
      },
      "execution_count": null,
      "outputs": []
    },
    {
      "cell_type": "code",
      "source": [
        "from google.colab import drive\n",
        "drive.mount('/content/drive')"
      ],
      "metadata": {
        "id": "sVpCZGzLgdyN"
      },
      "execution_count": null,
      "outputs": []
    },
    {
      "cell_type": "markdown",
      "source": [
        "# New Section"
      ],
      "metadata": {
        "id": "W3iiN_DQgiI7"
      }
    },
    {
      "cell_type": "markdown",
      "source": [
        "# New Section"
      ],
      "metadata": {
        "id": "_chXAowwgV7j"
      }
    },
    {
      "cell_type": "markdown",
      "source": [
        "# New Section"
      ],
      "metadata": {
        "id": "f1joSvWIgW1x"
      }
    },
    {
      "cell_type": "code",
      "execution_count": null,
      "metadata": {
        "id": "vIxdU3YQU-T9"
      },
      "outputs": [],
      "source": [
        "from tensorflow.keras.applications import ResNet50\n",
        "from tensorflow.keras.models import Sequential\n",
        "from tensorflow.keras.layers import Dense, Flatten, GlobalAveragePooling2D\n",
        "\n",
        "resnet_weights_path = '/content/drive/MyDrive/Models/resnet50_weights_tf_dim_ordering_tf_kernels_notop.h5'\n",
        "\n",
        "my_new_model = Sequential()\n",
        "my_new_model.add(ResNet50(include_top=False, pooling='avg', weights=resnet_weights_path))\n",
        "my_new_model.add(Dense(3, activation='softmax'))"
      ]
    },
    {
      "cell_type": "code",
      "source": [
        "from tensorflow import lite\n",
        "\n",
        "converter = lite.TFLiteConverter.from_keras_model(my_new_model)\n",
        "tfmodel = converter.convert()\n",
        "open(\"Resnet50trained.tflite\",\"wb\").write(tfmodel)"
      ],
      "metadata": {
        "id": "8zPjYwf7Wq28"
      },
      "execution_count": null,
      "outputs": []
    },
    {
      "cell_type": "code",
      "source": [
        "my_new_model.compile(loss=tf.keras.losses.CategoricalCrossentropy(),optimizer=SGD(lr=1e-5,momentum=0.9),metrics=['acc'])\n",
        "\n",
        "#es=EarlyStopping(monitor='val_acc', mode='max', verbose=1, patience=10)\n",
        "\n",
        "mc = ModelCheckpoint(\"Resnet50_best_model_1.h5\", monitor=\"val_acc\", mode=\"max\", save_best_only=True)\n",
        "\n",
        "resnet_history = my_new_model.fit(train_generator, validation_data = test_generator, steps_per_epoch = 56, epochs = 150, callbacks=[mc])"
      ],
      "metadata": {
        "colab": {
          "base_uri": "https://localhost:8080/"
        },
        "id": "5CUas6ddBJJt",
        "outputId": "cb986f3c-5afb-44db-961e-55ff66c8a891"
      },
      "execution_count": null,
      "outputs": [
        {
          "output_type": "stream",
          "name": "stderr",
          "text": [
            "/usr/local/lib/python3.7/dist-packages/keras/optimizer_v2/gradient_descent.py:102: UserWarning: The `lr` argument is deprecated, use `learning_rate` instead.\n",
            "  super(SGD, self).__init__(name, **kwargs)\n"
          ]
        },
        {
          "output_type": "stream",
          "name": "stdout",
          "text": [
            "Epoch 1/150\n",
            "56/56 [==============================] - 321s 5s/step - loss: 1.1451 - acc: 0.4209 - val_loss: 1.1250 - val_acc: 0.4141\n",
            "Epoch 2/150\n",
            "56/56 [==============================] - 32s 569ms/step - loss: 1.0085 - acc: 0.4936 - val_loss: 2.0024 - val_acc: 0.4229\n",
            "Epoch 3/150\n",
            "56/56 [==============================] - 31s 551ms/step - loss: 0.9117 - acc: 0.5774 - val_loss: 3.3042 - val_acc: 0.4229\n",
            "Epoch 4/150\n",
            "56/56 [==============================] - 31s 548ms/step - loss: 0.8430 - acc: 0.6316 - val_loss: 4.2488 - val_acc: 0.4229\n",
            "Epoch 5/150\n",
            "56/56 [==============================] - 32s 561ms/step - loss: 0.7853 - acc: 0.6696 - val_loss: 4.1249 - val_acc: 0.4207\n",
            "Epoch 6/150\n",
            "56/56 [==============================] - 32s 565ms/step - loss: 0.7289 - acc: 0.7177 - val_loss: 3.3260 - val_acc: 0.4207\n",
            "Epoch 7/150\n",
            "56/56 [==============================] - 31s 557ms/step - loss: 0.6768 - acc: 0.7457 - val_loss: 2.2921 - val_acc: 0.4207\n",
            "Epoch 8/150\n",
            "56/56 [==============================] - 33s 586ms/step - loss: 0.6376 - acc: 0.7775 - val_loss: 1.5534 - val_acc: 0.4339\n",
            "Epoch 9/150\n",
            "56/56 [==============================] - 32s 577ms/step - loss: 0.6032 - acc: 0.7881 - val_loss: 1.2306 - val_acc: 0.4449\n",
            "Epoch 10/150\n",
            "56/56 [==============================] - 32s 562ms/step - loss: 0.5671 - acc: 0.8245 - val_loss: 1.1801 - val_acc: 0.4273\n",
            "Epoch 11/150\n",
            "56/56 [==============================] - 32s 562ms/step - loss: 0.5412 - acc: 0.8396 - val_loss: 1.2908 - val_acc: 0.4163\n",
            "Epoch 12/150\n",
            "56/56 [==============================] - 32s 565ms/step - loss: 0.5230 - acc: 0.8452 - val_loss: 1.3751 - val_acc: 0.3678\n",
            "Epoch 13/150\n",
            "56/56 [==============================] - 32s 564ms/step - loss: 0.4844 - acc: 0.8541 - val_loss: 1.3989 - val_acc: 0.3436\n",
            "Epoch 14/150\n",
            "56/56 [==============================] - 32s 561ms/step - loss: 0.4669 - acc: 0.8737 - val_loss: 1.3374 - val_acc: 0.3458\n",
            "Epoch 15/150\n",
            "56/56 [==============================] - 32s 567ms/step - loss: 0.4441 - acc: 0.8809 - val_loss: 1.1711 - val_acc: 0.4273\n",
            "Epoch 16/150\n",
            "56/56 [==============================] - 33s 579ms/step - loss: 0.4333 - acc: 0.8854 - val_loss: 0.9469 - val_acc: 0.5220\n",
            "Epoch 17/150\n",
            "56/56 [==============================] - 33s 578ms/step - loss: 0.4062 - acc: 0.8955 - val_loss: 0.7563 - val_acc: 0.6366\n",
            "Epoch 18/150\n",
            "56/56 [==============================] - 33s 591ms/step - loss: 0.3928 - acc: 0.9005 - val_loss: 0.6077 - val_acc: 0.7511\n",
            "Epoch 19/150\n",
            "56/56 [==============================] - 33s 586ms/step - loss: 0.3851 - acc: 0.8944 - val_loss: 0.5016 - val_acc: 0.8282\n",
            "Epoch 20/150\n",
            "56/56 [==============================] - 33s 589ms/step - loss: 0.3780 - acc: 0.8994 - val_loss: 0.4277 - val_acc: 0.8634\n",
            "Epoch 21/150\n",
            "56/56 [==============================] - 33s 587ms/step - loss: 0.3542 - acc: 0.9094 - val_loss: 0.3792 - val_acc: 0.8811\n",
            "Epoch 22/150\n",
            "56/56 [==============================] - 33s 582ms/step - loss: 0.3452 - acc: 0.9167 - val_loss: 0.3478 - val_acc: 0.9031\n",
            "Epoch 23/150\n",
            "56/56 [==============================] - 33s 582ms/step - loss: 0.3395 - acc: 0.9212 - val_loss: 0.3269 - val_acc: 0.9163\n",
            "Epoch 24/150\n",
            "56/56 [==============================] - 33s 586ms/step - loss: 0.3233 - acc: 0.9273 - val_loss: 0.3111 - val_acc: 0.9229\n",
            "Epoch 25/150\n",
            "56/56 [==============================] - 32s 573ms/step - loss: 0.3123 - acc: 0.9212 - val_loss: 0.2986 - val_acc: 0.9207\n",
            "Epoch 26/150\n",
            "56/56 [==============================] - 32s 566ms/step - loss: 0.3031 - acc: 0.9268 - val_loss: 0.2886 - val_acc: 0.9229\n",
            "Epoch 27/150\n",
            "56/56 [==============================] - 33s 588ms/step - loss: 0.2885 - acc: 0.9318 - val_loss: 0.2796 - val_acc: 0.9251\n",
            "Epoch 28/150\n",
            "56/56 [==============================] - 33s 590ms/step - loss: 0.2760 - acc: 0.9391 - val_loss: 0.2702 - val_acc: 0.9273\n",
            "Epoch 29/150\n",
            "56/56 [==============================] - 33s 589ms/step - loss: 0.2723 - acc: 0.9329 - val_loss: 0.2607 - val_acc: 0.9317\n",
            "Epoch 30/150\n",
            "56/56 [==============================] - 32s 567ms/step - loss: 0.2768 - acc: 0.9312 - val_loss: 0.2547 - val_acc: 0.9295\n",
            "Epoch 31/150\n",
            "56/56 [==============================] - 33s 584ms/step - loss: 0.2595 - acc: 0.9452 - val_loss: 0.2477 - val_acc: 0.9339\n",
            "Epoch 32/150\n",
            "56/56 [==============================] - 33s 577ms/step - loss: 0.2546 - acc: 0.9458 - val_loss: 0.2411 - val_acc: 0.9383\n",
            "Epoch 33/150\n",
            "56/56 [==============================] - 33s 580ms/step - loss: 0.2560 - acc: 0.9419 - val_loss: 0.2340 - val_acc: 0.9405\n",
            "Epoch 34/150\n",
            "56/56 [==============================] - 33s 584ms/step - loss: 0.2393 - acc: 0.9497 - val_loss: 0.2272 - val_acc: 0.9449\n",
            "Epoch 35/150\n",
            "56/56 [==============================] - 32s 574ms/step - loss: 0.2382 - acc: 0.9441 - val_loss: 0.2220 - val_acc: 0.9449\n",
            "Epoch 36/150\n",
            "56/56 [==============================] - 33s 589ms/step - loss: 0.2390 - acc: 0.9424 - val_loss: 0.2173 - val_acc: 0.9471\n",
            "Epoch 37/150\n",
            "56/56 [==============================] - 32s 575ms/step - loss: 0.2307 - acc: 0.9463 - val_loss: 0.2126 - val_acc: 0.9471\n",
            "Epoch 38/150\n",
            "56/56 [==============================] - 32s 572ms/step - loss: 0.2267 - acc: 0.9497 - val_loss: 0.2080 - val_acc: 0.9471\n",
            "Epoch 39/150\n",
            "56/56 [==============================] - 33s 583ms/step - loss: 0.2172 - acc: 0.9480 - val_loss: 0.2027 - val_acc: 0.9493\n",
            "Epoch 40/150\n",
            "56/56 [==============================] - 34s 603ms/step - loss: 0.2079 - acc: 0.9603 - val_loss: 0.1974 - val_acc: 0.9515\n",
            "Epoch 41/150\n",
            "56/56 [==============================] - 32s 571ms/step - loss: 0.2059 - acc: 0.9519 - val_loss: 0.1936 - val_acc: 0.9515\n",
            "Epoch 42/150\n",
            "56/56 [==============================] - 34s 597ms/step - loss: 0.2037 - acc: 0.9564 - val_loss: 0.1893 - val_acc: 0.9537\n",
            "Epoch 43/150\n",
            "56/56 [==============================] - 34s 597ms/step - loss: 0.2017 - acc: 0.9525 - val_loss: 0.1850 - val_acc: 0.9559\n",
            "Epoch 44/150\n",
            "56/56 [==============================] - 32s 571ms/step - loss: 0.1963 - acc: 0.9570 - val_loss: 0.1817 - val_acc: 0.9559\n",
            "Epoch 45/150\n",
            "56/56 [==============================] - 32s 568ms/step - loss: 0.2054 - acc: 0.9497 - val_loss: 0.1780 - val_acc: 0.9559\n",
            "Epoch 46/150\n",
            "56/56 [==============================] - 33s 581ms/step - loss: 0.1871 - acc: 0.9603 - val_loss: 0.1746 - val_acc: 0.9559\n",
            "Epoch 47/150\n",
            "56/56 [==============================] - 34s 603ms/step - loss: 0.1869 - acc: 0.9592 - val_loss: 0.1716 - val_acc: 0.9581\n",
            "Epoch 48/150\n",
            "56/56 [==============================] - 33s 589ms/step - loss: 0.1880 - acc: 0.9598 - val_loss: 0.1684 - val_acc: 0.9581\n",
            "Epoch 49/150\n",
            "56/56 [==============================] - 33s 595ms/step - loss: 0.1852 - acc: 0.9625 - val_loss: 0.1656 - val_acc: 0.9581\n",
            "Epoch 50/150\n",
            "56/56 [==============================] - 34s 606ms/step - loss: 0.1749 - acc: 0.9581 - val_loss: 0.1626 - val_acc: 0.9604\n",
            "Epoch 51/150\n",
            "56/56 [==============================] - 34s 612ms/step - loss: 0.1664 - acc: 0.9659 - val_loss: 0.1605 - val_acc: 0.9626\n",
            "Epoch 52/150\n",
            "56/56 [==============================] - 33s 591ms/step - loss: 0.1647 - acc: 0.9653 - val_loss: 0.1571 - val_acc: 0.9604\n",
            "Epoch 53/150\n",
            "56/56 [==============================] - 34s 605ms/step - loss: 0.1713 - acc: 0.9598 - val_loss: 0.1542 - val_acc: 0.9648\n",
            "Epoch 54/150\n",
            "56/56 [==============================] - 34s 596ms/step - loss: 0.1672 - acc: 0.9631 - val_loss: 0.1522 - val_acc: 0.9648\n",
            "Epoch 55/150\n",
            "56/56 [==============================] - 34s 596ms/step - loss: 0.1653 - acc: 0.9659 - val_loss: 0.1504 - val_acc: 0.9626\n",
            "Epoch 56/150\n",
            "56/56 [==============================] - 34s 596ms/step - loss: 0.1570 - acc: 0.9637 - val_loss: 0.1483 - val_acc: 0.9648\n",
            "Epoch 57/150\n",
            "56/56 [==============================] - 35s 616ms/step - loss: 0.1545 - acc: 0.9676 - val_loss: 0.1462 - val_acc: 0.9670\n",
            "Epoch 58/150\n",
            "56/56 [==============================] - 34s 601ms/step - loss: 0.1516 - acc: 0.9693 - val_loss: 0.1436 - val_acc: 0.9670\n",
            "Epoch 59/150\n",
            "56/56 [==============================] - 34s 597ms/step - loss: 0.1498 - acc: 0.9670 - val_loss: 0.1413 - val_acc: 0.9670\n",
            "Epoch 60/150\n",
            "56/56 [==============================] - 34s 597ms/step - loss: 0.1573 - acc: 0.9665 - val_loss: 0.1388 - val_acc: 0.9670\n",
            "Epoch 61/150\n",
            "56/56 [==============================] - 33s 592ms/step - loss: 0.1431 - acc: 0.9709 - val_loss: 0.1365 - val_acc: 0.9670\n",
            "Epoch 62/150\n",
            "56/56 [==============================] - 33s 591ms/step - loss: 0.1531 - acc: 0.9648 - val_loss: 0.1346 - val_acc: 0.9670\n",
            "Epoch 63/150\n",
            "56/56 [==============================] - 34s 610ms/step - loss: 0.1349 - acc: 0.9732 - val_loss: 0.1322 - val_acc: 0.9692\n",
            "Epoch 64/150\n",
            "56/56 [==============================] - 34s 604ms/step - loss: 0.1414 - acc: 0.9687 - val_loss: 0.1304 - val_acc: 0.9692\n",
            "Epoch 65/150\n",
            "56/56 [==============================] - 34s 610ms/step - loss: 0.1368 - acc: 0.9726 - val_loss: 0.1279 - val_acc: 0.9714\n",
            "Epoch 66/150\n",
            "56/56 [==============================] - 33s 593ms/step - loss: 0.1341 - acc: 0.9732 - val_loss: 0.1265 - val_acc: 0.9714\n",
            "Epoch 67/150\n",
            "56/56 [==============================] - 33s 594ms/step - loss: 0.1360 - acc: 0.9721 - val_loss: 0.1247 - val_acc: 0.9714\n",
            "Epoch 68/150\n",
            "56/56 [==============================] - 34s 601ms/step - loss: 0.1375 - acc: 0.9709 - val_loss: 0.1238 - val_acc: 0.9714\n",
            "Epoch 69/150\n",
            "56/56 [==============================] - 33s 589ms/step - loss: 0.1330 - acc: 0.9748 - val_loss: 0.1231 - val_acc: 0.9692\n",
            "Epoch 70/150\n",
            "56/56 [==============================] - 33s 587ms/step - loss: 0.1305 - acc: 0.9754 - val_loss: 0.1214 - val_acc: 0.9714\n",
            "Epoch 71/150\n",
            "56/56 [==============================] - 33s 589ms/step - loss: 0.1229 - acc: 0.9765 - val_loss: 0.1202 - val_acc: 0.9714\n",
            "Epoch 72/150\n",
            "56/56 [==============================] - 33s 592ms/step - loss: 0.1228 - acc: 0.9726 - val_loss: 0.1190 - val_acc: 0.9714\n",
            "Epoch 73/150\n",
            "56/56 [==============================] - 34s 600ms/step - loss: 0.1289 - acc: 0.9715 - val_loss: 0.1176 - val_acc: 0.9714\n",
            "Epoch 74/150\n",
            "56/56 [==============================] - 33s 592ms/step - loss: 0.1208 - acc: 0.9776 - val_loss: 0.1163 - val_acc: 0.9714\n",
            "Epoch 75/150\n",
            "56/56 [==============================] - 33s 592ms/step - loss: 0.1217 - acc: 0.9743 - val_loss: 0.1149 - val_acc: 0.9714\n",
            "Epoch 76/150\n",
            "56/56 [==============================] - 33s 595ms/step - loss: 0.1235 - acc: 0.9721 - val_loss: 0.1141 - val_acc: 0.9714\n",
            "Epoch 77/150\n",
            "56/56 [==============================] - 34s 600ms/step - loss: 0.1195 - acc: 0.9732 - val_loss: 0.1130 - val_acc: 0.9714\n",
            "Epoch 78/150\n",
            "56/56 [==============================] - 33s 592ms/step - loss: 0.1156 - acc: 0.9760 - val_loss: 0.1111 - val_acc: 0.9714\n",
            "Epoch 79/150\n",
            "56/56 [==============================] - 33s 590ms/step - loss: 0.1164 - acc: 0.9726 - val_loss: 0.1101 - val_acc: 0.9714\n",
            "Epoch 80/150\n",
            "56/56 [==============================] - 34s 602ms/step - loss: 0.1209 - acc: 0.9721 - val_loss: 0.1088 - val_acc: 0.9714\n",
            "Epoch 81/150\n",
            "56/56 [==============================] - 33s 587ms/step - loss: 0.1094 - acc: 0.9771 - val_loss: 0.1067 - val_acc: 0.9714\n",
            "Epoch 82/150\n",
            "56/56 [==============================] - 33s 590ms/step - loss: 0.1159 - acc: 0.9793 - val_loss: 0.1069 - val_acc: 0.9714\n",
            "Epoch 83/150\n",
            "56/56 [==============================] - 32s 575ms/step - loss: 0.1063 - acc: 0.9771 - val_loss: 0.1050 - val_acc: 0.9714\n",
            "Epoch 84/150\n",
            "56/56 [==============================] - 32s 569ms/step - loss: 0.1068 - acc: 0.9765 - val_loss: 0.1041 - val_acc: 0.9714\n",
            "Epoch 85/150\n",
            "56/56 [==============================] - 32s 563ms/step - loss: 0.1091 - acc: 0.9760 - val_loss: 0.1036 - val_acc: 0.9714\n",
            "Epoch 86/150\n",
            "56/56 [==============================] - 32s 570ms/step - loss: 0.1049 - acc: 0.9760 - val_loss: 0.1029 - val_acc: 0.9714\n",
            "Epoch 87/150\n",
            "56/56 [==============================] - 32s 565ms/step - loss: 0.1126 - acc: 0.9715 - val_loss: 0.1011 - val_acc: 0.9714\n",
            "Epoch 88/150\n",
            "56/56 [==============================] - 32s 575ms/step - loss: 0.1061 - acc: 0.9788 - val_loss: 0.0998 - val_acc: 0.9714\n",
            "Epoch 89/150\n",
            "56/56 [==============================] - 33s 587ms/step - loss: 0.1070 - acc: 0.9760 - val_loss: 0.0994 - val_acc: 0.9714\n",
            "Epoch 90/150\n",
            "56/56 [==============================] - 32s 573ms/step - loss: 0.1023 - acc: 0.9760 - val_loss: 0.0980 - val_acc: 0.9714\n",
            "Epoch 91/150\n",
            "56/56 [==============================] - 32s 568ms/step - loss: 0.1018 - acc: 0.9748 - val_loss: 0.0970 - val_acc: 0.9714\n",
            "Epoch 92/150\n",
            "56/56 [==============================] - 33s 587ms/step - loss: 0.0919 - acc: 0.9843 - val_loss: 0.0954 - val_acc: 0.9736\n",
            "Epoch 93/150\n",
            "56/56 [==============================] - 33s 586ms/step - loss: 0.1121 - acc: 0.9709 - val_loss: 0.0940 - val_acc: 0.9736\n",
            "Epoch 94/150\n",
            "56/56 [==============================] - 33s 586ms/step - loss: 0.1007 - acc: 0.9743 - val_loss: 0.0934 - val_acc: 0.9736\n",
            "Epoch 95/150\n",
            "56/56 [==============================] - 34s 610ms/step - loss: 0.1035 - acc: 0.9793 - val_loss: 0.0929 - val_acc: 0.9736\n",
            "Epoch 96/150\n",
            "56/56 [==============================] - 33s 589ms/step - loss: 0.0967 - acc: 0.9771 - val_loss: 0.0923 - val_acc: 0.9714\n",
            "Epoch 97/150\n",
            "56/56 [==============================] - 33s 578ms/step - loss: 0.0942 - acc: 0.9782 - val_loss: 0.0913 - val_acc: 0.9714\n",
            "Epoch 98/150\n",
            "56/56 [==============================] - 33s 589ms/step - loss: 0.1068 - acc: 0.9721 - val_loss: 0.0914 - val_acc: 0.9714\n",
            "Epoch 99/150\n",
            "56/56 [==============================] - 33s 587ms/step - loss: 0.0964 - acc: 0.9810 - val_loss: 0.0910 - val_acc: 0.9714\n",
            "Epoch 100/150\n",
            "56/56 [==============================] - 33s 578ms/step - loss: 0.0962 - acc: 0.9782 - val_loss: 0.0900 - val_acc: 0.9736\n",
            "Epoch 101/150\n",
            "56/56 [==============================] - 33s 580ms/step - loss: 0.0954 - acc: 0.9843 - val_loss: 0.0889 - val_acc: 0.9736\n",
            "Epoch 102/150\n",
            "56/56 [==============================] - 33s 592ms/step - loss: 0.0911 - acc: 0.9816 - val_loss: 0.0882 - val_acc: 0.9736\n",
            "Epoch 103/150\n",
            "56/56 [==============================] - 34s 607ms/step - loss: 0.0984 - acc: 0.9788 - val_loss: 0.0877 - val_acc: 0.9736\n",
            "Epoch 104/150\n",
            "56/56 [==============================] - 34s 599ms/step - loss: 0.0973 - acc: 0.9788 - val_loss: 0.0869 - val_acc: 0.9736\n",
            "Epoch 105/150\n",
            "56/56 [==============================] - 34s 608ms/step - loss: 0.0886 - acc: 0.9821 - val_loss: 0.0861 - val_acc: 0.9736\n",
            "Epoch 106/150\n",
            "56/56 [==============================] - 34s 605ms/step - loss: 0.0865 - acc: 0.9849 - val_loss: 0.0853 - val_acc: 0.9736\n",
            "Epoch 107/150\n",
            "56/56 [==============================] - 34s 599ms/step - loss: 0.0848 - acc: 0.9827 - val_loss: 0.0847 - val_acc: 0.9736\n",
            "Epoch 108/150\n",
            "56/56 [==============================] - 33s 587ms/step - loss: 0.0893 - acc: 0.9804 - val_loss: 0.0839 - val_acc: 0.9736\n",
            "Epoch 109/150\n",
            "56/56 [==============================] - 33s 589ms/step - loss: 0.0888 - acc: 0.9793 - val_loss: 0.0838 - val_acc: 0.9736\n",
            "Epoch 110/150\n",
            "56/56 [==============================] - 33s 591ms/step - loss: 0.0862 - acc: 0.9810 - val_loss: 0.0830 - val_acc: 0.9736\n",
            "Epoch 111/150\n",
            "56/56 [==============================] - 33s 591ms/step - loss: 0.0865 - acc: 0.9804 - val_loss: 0.0827 - val_acc: 0.9736\n",
            "Epoch 112/150\n",
            "56/56 [==============================] - 33s 590ms/step - loss: 0.0876 - acc: 0.9821 - val_loss: 0.0822 - val_acc: 0.9736\n",
            "Epoch 113/150\n",
            "56/56 [==============================] - 33s 589ms/step - loss: 0.0871 - acc: 0.9821 - val_loss: 0.0811 - val_acc: 0.9736\n",
            "Epoch 114/150\n",
            "56/56 [==============================] - 34s 603ms/step - loss: 0.0853 - acc: 0.9804 - val_loss: 0.0808 - val_acc: 0.9736\n",
            "Epoch 115/150\n",
            "56/56 [==============================] - 33s 590ms/step - loss: 0.0810 - acc: 0.9827 - val_loss: 0.0807 - val_acc: 0.9736\n",
            "Epoch 116/150\n",
            "56/56 [==============================] - 33s 585ms/step - loss: 0.0815 - acc: 0.9827 - val_loss: 0.0794 - val_acc: 0.9736\n",
            "Epoch 117/150\n",
            "56/56 [==============================] - 33s 588ms/step - loss: 0.0835 - acc: 0.9782 - val_loss: 0.0790 - val_acc: 0.9736\n",
            "Epoch 118/150\n",
            "56/56 [==============================] - 33s 587ms/step - loss: 0.0782 - acc: 0.9804 - val_loss: 0.0787 - val_acc: 0.9736\n",
            "Epoch 119/150\n",
            "56/56 [==============================] - 33s 592ms/step - loss: 0.0791 - acc: 0.9793 - val_loss: 0.0787 - val_acc: 0.9736\n",
            "Epoch 120/150\n",
            "56/56 [==============================] - 33s 594ms/step - loss: 0.0775 - acc: 0.9843 - val_loss: 0.0787 - val_acc: 0.9736\n",
            "Epoch 121/150\n",
            "56/56 [==============================] - 33s 584ms/step - loss: 0.0812 - acc: 0.9810 - val_loss: 0.0779 - val_acc: 0.9736\n",
            "Epoch 122/150\n",
            "56/56 [==============================] - 33s 583ms/step - loss: 0.0695 - acc: 0.9883 - val_loss: 0.0774 - val_acc: 0.9736\n",
            "Epoch 123/150\n",
            "56/56 [==============================] - 33s 587ms/step - loss: 0.0741 - acc: 0.9849 - val_loss: 0.0766 - val_acc: 0.9736\n",
            "Epoch 124/150\n",
            "56/56 [==============================] - 33s 582ms/step - loss: 0.0809 - acc: 0.9804 - val_loss: 0.0756 - val_acc: 0.9736\n",
            "Epoch 125/150\n",
            "56/56 [==============================] - 33s 582ms/step - loss: 0.0684 - acc: 0.9888 - val_loss: 0.0763 - val_acc: 0.9736\n",
            "Epoch 126/150\n",
            "56/56 [==============================] - 33s 583ms/step - loss: 0.0802 - acc: 0.9816 - val_loss: 0.0761 - val_acc: 0.9736\n",
            "Epoch 127/150\n",
            "56/56 [==============================] - 33s 582ms/step - loss: 0.0739 - acc: 0.9871 - val_loss: 0.0752 - val_acc: 0.9736\n",
            "Epoch 128/150\n",
            "56/56 [==============================] - 33s 591ms/step - loss: 0.0757 - acc: 0.9832 - val_loss: 0.0745 - val_acc: 0.9736\n",
            "Epoch 129/150\n",
            "56/56 [==============================] - 33s 589ms/step - loss: 0.0778 - acc: 0.9816 - val_loss: 0.0736 - val_acc: 0.9736\n",
            "Epoch 130/150\n",
            "56/56 [==============================] - 33s 586ms/step - loss: 0.0782 - acc: 0.9832 - val_loss: 0.0726 - val_acc: 0.9736\n",
            "Epoch 131/150\n",
            "56/56 [==============================] - 33s 582ms/step - loss: 0.0764 - acc: 0.9760 - val_loss: 0.0721 - val_acc: 0.9736\n",
            "Epoch 132/150\n",
            "56/56 [==============================] - 34s 599ms/step - loss: 0.0697 - acc: 0.9855 - val_loss: 0.0715 - val_acc: 0.9736\n",
            "Epoch 133/150\n",
            "56/56 [==============================] - 33s 594ms/step - loss: 0.0751 - acc: 0.9804 - val_loss: 0.0713 - val_acc: 0.9736\n",
            "Epoch 134/150\n",
            "56/56 [==============================] - 33s 587ms/step - loss: 0.0635 - acc: 0.9883 - val_loss: 0.0710 - val_acc: 0.9736\n",
            "Epoch 135/150\n",
            "56/56 [==============================] - 32s 575ms/step - loss: 0.0687 - acc: 0.9877 - val_loss: 0.0705 - val_acc: 0.9736\n",
            "Epoch 136/150\n",
            "56/56 [==============================] - 33s 578ms/step - loss: 0.0689 - acc: 0.9855 - val_loss: 0.0697 - val_acc: 0.9736\n",
            "Epoch 137/150\n",
            "56/56 [==============================] - 32s 574ms/step - loss: 0.0696 - acc: 0.9832 - val_loss: 0.0697 - val_acc: 0.9736\n",
            "Epoch 138/150\n",
            "56/56 [==============================] - 33s 579ms/step - loss: 0.0649 - acc: 0.9894 - val_loss: 0.0695 - val_acc: 0.9736\n",
            "Epoch 139/150\n",
            "56/56 [==============================] - 33s 579ms/step - loss: 0.0620 - acc: 0.9866 - val_loss: 0.0686 - val_acc: 0.9736\n",
            "Epoch 140/150\n",
            "56/56 [==============================] - 33s 591ms/step - loss: 0.0704 - acc: 0.9860 - val_loss: 0.0689 - val_acc: 0.9736\n",
            "Epoch 141/150\n",
            "56/56 [==============================] - 33s 587ms/step - loss: 0.0665 - acc: 0.9849 - val_loss: 0.0683 - val_acc: 0.9736\n",
            "Epoch 142/150\n",
            "56/56 [==============================] - 34s 598ms/step - loss: 0.0632 - acc: 0.9871 - val_loss: 0.0674 - val_acc: 0.9758\n",
            "Epoch 143/150\n",
            "56/56 [==============================] - 33s 582ms/step - loss: 0.0587 - acc: 0.9871 - val_loss: 0.0680 - val_acc: 0.9758\n",
            "Epoch 144/150\n",
            "56/56 [==============================] - 33s 580ms/step - loss: 0.0636 - acc: 0.9877 - val_loss: 0.0676 - val_acc: 0.9758\n",
            "Epoch 145/150\n",
            "56/56 [==============================] - 33s 579ms/step - loss: 0.0747 - acc: 0.9799 - val_loss: 0.0667 - val_acc: 0.9758\n",
            "Epoch 146/150\n",
            "56/56 [==============================] - 33s 579ms/step - loss: 0.0635 - acc: 0.9832 - val_loss: 0.0663 - val_acc: 0.9758\n",
            "Epoch 147/150\n",
            "56/56 [==============================] - 33s 580ms/step - loss: 0.0658 - acc: 0.9855 - val_loss: 0.0662 - val_acc: 0.9758\n",
            "Epoch 148/150\n",
            "56/56 [==============================] - 33s 579ms/step - loss: 0.0670 - acc: 0.9827 - val_loss: 0.0659 - val_acc: 0.9758\n",
            "Epoch 149/150\n",
            "56/56 [==============================] - 33s 579ms/step - loss: 0.0613 - acc: 0.9877 - val_loss: 0.0659 - val_acc: 0.9736\n",
            "Epoch 150/150\n",
            "56/56 [==============================] - 33s 585ms/step - loss: 0.0696 - acc: 0.9810 - val_loss: 0.0649 - val_acc: 0.9758\n"
          ]
        }
      ]
    },
    {
      "cell_type": "code",
      "source": [
        "import numpy as np\n",
        "from sklearn.metrics import confusion_matrix\n",
        "from sklearn.metrics import classification_report\n",
        "\n",
        "Y_pred = my_new_model.predict(test_generator)\n",
        "y_pred = np.argmax(Y_pred, axis=1)\n",
        "print('Confusion Matrix')\n",
        "print(confusion_matrix(test_generator.classes, y_pred))\n",
        "print('Classification Report')\n",
        "target_names = [\"Downy mildew disease\",\"Healthy\",\"Rust disease\"]\n",
        "print(classification_report(test_generator.classes, y_pred,target_names=target_names))"
      ],
      "metadata": {
        "colab": {
          "base_uri": "https://localhost:8080/"
        },
        "id": "JRE9szhRDgq-",
        "outputId": "9a004428-b268-40e7-991c-8cdd946e4d2f"
      },
      "execution_count": null,
      "outputs": [
        {
          "output_type": "stream",
          "name": "stdout",
          "text": [
            "Confusion Matrix\n",
            "[[146   2   1]\n",
            " [  1 111   1]\n",
            " [  5   1 186]]\n",
            "Classification Report\n",
            "                      precision    recall  f1-score   support\n",
            "\n",
            "Downy mildew disease       0.96      0.98      0.97       149\n",
            "             Healthy       0.97      0.98      0.98       113\n",
            "        Rust disease       0.99      0.97      0.98       192\n",
            "\n",
            "            accuracy                           0.98       454\n",
            "           macro avg       0.97      0.98      0.98       454\n",
            "        weighted avg       0.98      0.98      0.98       454\n",
            "\n"
          ]
        }
      ]
    },
    {
      "cell_type": "code",
      "source": [
        "# summarize history for accuracy\n",
        "import matplotlib.pyplot as plt\n",
        "plt.plot(resnet_history.history['acc'])\n",
        "plt.plot(resnet_history.history['val_acc'])\n",
        "plt.title('model accuracy')\n",
        "plt.ylabel('accuracy')\n",
        "plt.xlabel('epoch')\n",
        "plt.legend(['train', 'test'], loc='upper left')\n",
        "plt.show()\n",
        "# summarize history for loss\n",
        "plt.plot(resnet_history.history['loss'])\n",
        "plt.plot(resnet_history.history['val_loss'])\n",
        "plt.title('model loss')\n",
        "plt.ylabel('loss')\n",
        "plt.xlabel('epoch')\n",
        "plt.legend(['train', 'test'], loc='upper left')\n",
        "plt.show()\n",
        "\n",
        "import matplotlib.pyplot as plt\n",
        "plt.plot(resnet_history.history['acc'])\n",
        "plt.plot(resnet_history.history['val_acc'])\n",
        "plt.plot(resnet_history.history['loss'])\n",
        "plt.plot(resnet_history.history['val_loss'])\n",
        "plt.title('model accuracy')\n",
        "plt.ylabel('Accuracy')\n",
        "plt.xlabel('Epoch')\n",
        "plt.legend(['Accuracy','Validation Accuracy','loss','Validation Loss'])\n",
        "plt.show()"
      ],
      "metadata": {
        "colab": {
          "base_uri": "https://localhost:8080/",
          "height": 851
        },
        "id": "3nWONizMDkQf",
        "outputId": "53454608-7b9d-4600-ad1a-8e124c5b0199"
      },
      "execution_count": null,
      "outputs": [
        {
          "output_type": "display_data",
          "data": {
            "text/plain": [
              "<Figure size 432x288 with 1 Axes>"
            ],
            "image/png": "[encoded data removed]"
          },
          "metadata": {
            "needs_background": "light"
          }
        },
        {
          "output_type": "display_data",
          "data": {
            "text/plain": [
              "<Figure size 432x288 with 1 Axes>"
            ],
            "image/png": "[encoded data removed]"
          },
          "metadata": {
            "needs_background": "light"
          }
        },
        {
          "output_type": "display_data",
          "data": {
            "text/plain": [
              "<Figure size 432x288 with 1 Axes>"
            ],
            "image/png": "[encoded data removed]"
          },
          "metadata": {
            "needs_background": "light"
          }
        }
      ]
    },
    {
      "cell_type": "code",
      "source": [
        "my_new_model.compile(loss=tf.keras.losses.CategoricalCrossentropy(),optimizer=SGD(lr=1e-5,momentum=0.9),metrics=['acc'])\n",
        "\n",
        "resnet_history = my_new_model.fit(train_generator, validation_data = test_generator, steps_per_epoch = 56, epochs = 150)"
      ],
      "metadata": {
        "id": "S0bUAP3XuiYK"
      },
      "execution_count": null,
      "outputs": []
    },
    {
      "cell_type": "code",
      "source": [
        "my_new_model.save('/content/drive/MyDrive/Trained Models/Resnet50trained.h5')"
      ],
      "metadata": {
        "id": "zhv9cI_AArbV"
      },
      "execution_count": null,
      "outputs": []
    },
    {
      "cell_type": "code",
      "source": [
        "my_new_model.save('/content/drive/MyDrive/Trained Models/Resnet50trained.hdf5')"
      ],
      "metadata": {
        "id": "cFcakCx7h7Ko"
      },
      "execution_count": null,
      "outputs": []
    },
    {
      "cell_type": "code",
      "source": [
        "from tensorflow import lite\n",
        "\n",
        "converter = lite.TFLiteConverter.from_keras_model(my_new_model)\n",
        "tfmodel = converter.convert()\n",
        "open(\"Resnet50trained.tflite\",\"wb\").write(tfmodel)"
      ],
      "metadata": {
        "id": "MCWsrqZWkBvQ"
      },
      "execution_count": null,
      "outputs": []
    },
    {
      "cell_type": "code",
      "source": [
        "valid_datagen = ImageDataGenerator()\n",
        "valid_generator = valid_datagen.flow_from_directory(\"/content/drive/MyDrive/Resized Pearl Millet/Valid\",target_size=(224, 224),batch_size=32,shuffle=True,class_mode=\"categorical\")\n",
        "\n",
        "from tensorflow import keras\n",
        "#model = keras.models.load_model('/content/drive/MyDrive/Trained Models/Resnet50trained.h5')"
      ],
      "metadata": {
        "id": "S5TVp151mHVA",
        "colab": {
          "base_uri": "https://localhost:8080/"
        },
        "outputId": "1a70ca4c-5074-445a-cba0-fc5a07aa30c1"
      },
      "execution_count": null,
      "outputs": [
        {
          "output_type": "stream",
          "name": "stdout",
          "text": [
            "Found 30 images belonging to 3 classes.\n"
          ]
        }
      ]
    },
    {
      "cell_type": "code",
      "source": [
        "import numpy as np\n",
        "from sklearn.metrics import confusion_matrix\n",
        "from sklearn.metrics import classification_report\n",
        "\n",
        "Y_pred = my_new_model.predict(valid_generator)\n",
        "y_pred = np.argmax(Y_pred, axis=1)\n",
        "print('Confusion Matrix')\n",
        "print(confusion_matrix(valid_generator.classes, y_pred))\n",
        "print('Classification Report')\n",
        "target_names = [\"Downy mildew disease\",\"Healthy\",\"Rust disease\"]\n",
        "print(classification_report(valid_generator.classes, y_pred,target_names=target_names))"
      ],
      "metadata": {
        "colab": {
          "base_uri": "https://localhost:8080/"
        },
        "id": "zGc2_op1lAvg",
        "outputId": "d5dc2a16-f9d4-4ac6-f36f-2a9132b7628d"
      },
      "execution_count": null,
      "outputs": [
        {
          "output_type": "stream",
          "name": "stdout",
          "text": [
            "Confusion Matrix\n",
            "[[5 3 2]\n",
            " [4 3 3]\n",
            " [2 4 4]]\n",
            "Classification Report\n",
            "                      precision    recall  f1-score   support\n",
            "\n",
            "Downy mildew disease       0.45      0.50      0.48        10\n",
            "             Healthy       0.30      0.30      0.30        10\n",
            "        Rust disease       0.44      0.40      0.42        10\n",
            "\n",
            "            accuracy                           0.40        30\n",
            "           macro avg       0.40      0.40      0.40        30\n",
            "        weighted avg       0.40      0.40      0.40        30\n",
            "\n"
          ]
        }
      ]
    }
  ]
}